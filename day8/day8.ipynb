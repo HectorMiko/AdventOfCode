{
 "cells": [
  {
   "cell_type": "code",
   "execution_count": 64,
   "metadata": {},
   "outputs": [
    {
     "name": "stdout",
     "output_type": "stream",
     "text": [
      "'LRRRLRLLLLLLLRLRLRRLRRRLRRLRRRLRRLRRRLLRRRLRRLRLRRRLRRLRRRLLRLLRRRLRRRLRLLRLRLRRRLRRLRRLRRLRLRRRLRRLRRRLLRLLRLLRRLRLLRLRRLRLRLRRLRRRLLLRRLRRRLLRRLRLRLRRRLRLRRRLLRLLLRRRLLLRRLLRLLRRLLRLRRRLRLRRLRRLLRRLRLLRLRRRLRRRLRLRRRLRLRLRRLRLRRRLRRRLRRRLRRLRRLRRRLLRLRLLRLLRRRR'\n",
      "'AAA'\n"
     ]
    }
   ],
   "source": [
    "import pprint\n",
    "\n",
    "with open('day8.txt') as f:\n",
    "    lines = f.read()\n",
    "    data = lines.split(\"\\n\")\n",
    "\n",
    "movements = data[0]\n",
    "start = \"AAA\"\n",
    "graph = {}\n",
    "\n",
    "for i in range(2, len(data)) :\n",
    "    line = data[i]\n",
    "    graph[line[0:3]] = {\n",
    "        \"L\" : line[7:10],\n",
    "        \"R\" : line[12:15],\n",
    "    }\n",
    "\n",
    "# pprint.pprint(graph)\n",
    "pprint.pprint(movements)\n",
    "pprint.pprint(start)\n",
    "\n"
   ]
  },
  {
   "cell_type": "code",
   "execution_count": 65,
   "metadata": {},
   "outputs": [
    {
     "name": "stdout",
     "output_type": "stream",
     "text": [
      "0 AAA\n",
      "1000 RGP\n",
      "2000 PMD\n",
      "3000 CGT\n",
      "4000 FNR\n",
      "5000 CBR\n",
      "6000 LMH\n",
      "7000 NSX\n",
      "8000 LRG\n",
      "9000 KRG\n",
      "10000 HNG\n",
      "11000 CLT\n",
      "12000 PLM\n",
      "13000 GSH\n",
      "14000 HGX\n",
      "15000 QFV\n",
      "15517\n"
     ]
    }
   ],
   "source": [
    "def get_shortest_path(start, graph, movements):\n",
    "\n",
    "    counter_steps = 0\n",
    "    current_step = start\n",
    "    while counter_steps<1000000:\n",
    "        if counter_steps%1000==0:\n",
    "            print(counter_steps, current_step)\n",
    "        if current_step==\"ZZZ\":\n",
    "            break\n",
    "        direction = movements[counter_steps%len(movements)]\n",
    "        current_step = graph[current_step][direction]\n",
    "        counter_steps+=1\n",
    "    return counter_steps\n",
    "\n",
    "print(get_shortest_path(start, graph, movements))"
   ]
  },
  {
   "cell_type": "code",
   "execution_count": 66,
   "metadata": {},
   "outputs": [
    {
     "name": "stdout",
     "output_type": "stream",
     "text": [
      "13939 KDZ\n",
      "17621 XQZ\n",
      "19199 LKZ\n",
      "15517 ZZZ\n",
      "12361 NTZ\n",
      "20777 XBZ\n",
      "[13939, 17621, 19199, 15517, 12361, 20777]\n"
     ]
    }
   ],
   "source": [
    "from math import lcm\n",
    "\n",
    "def get_shortest_path_P2(start):\n",
    "    counter_steps = 0\n",
    "    current_step = start\n",
    "    while counter_steps<1000000:\n",
    "        if current_step[-1]==\"Z\":\n",
    "            break\n",
    "        direction = movements[counter_steps%len(movements)]\n",
    "        current_step = graph[current_step][direction]\n",
    "        counter_steps+=1\n",
    "    print(counter_steps, current_step)\n",
    "    return counter_steps\n",
    "\n",
    "counters = []\n",
    "for node in graph :\n",
    "    if node[-1]==\"A\":\n",
    "        counters.append(get_shortest_path_P2(node))\n",
    "\n",
    "print(counters)\n",
    "\n"
   ]
  },
  {
   "cell_type": "code",
   "execution_count": 67,
   "metadata": {},
   "outputs": [
    {
     "data": {
      "text/plain": [
       "14935034899483"
      ]
     },
     "execution_count": 67,
     "metadata": {},
     "output_type": "execute_result"
    }
   ],
   "source": [
    "lcm(13939, 17621, 19199, 15517, 12361, 20777)"
   ]
  }
 ],
 "metadata": {
  "kernelspec": {
   "display_name": "Python 3",
   "language": "python",
   "name": "python3"
  },
  "language_info": {
   "codemirror_mode": {
    "name": "ipython",
    "version": 3
   },
   "file_extension": ".py",
   "mimetype": "text/x-python",
   "name": "python",
   "nbconvert_exporter": "python",
   "pygments_lexer": "ipython3",
   "version": "3.9.6"
  }
 },
 "nbformat": 4,
 "nbformat_minor": 2
}
