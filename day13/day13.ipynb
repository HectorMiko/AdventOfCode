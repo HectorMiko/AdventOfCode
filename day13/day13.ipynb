{
 "cells": [
  {
   "cell_type": "code",
   "execution_count": 81,
   "metadata": {},
   "outputs": [
    {
     "name": "stdout",
     "output_type": "stream",
     "text": [
      "[['#', '.', '.', '#', '#', '#', '.', '.', '#', '#', '#', '#', '#'],\n",
      " ['#', '#', '#', '.', '.', '#', '.', '.', '.', '.', '.', '.', '.'],\n",
      " ['.', '#', '#', '.', '#', '.', '#', '.', '#', '#', '#', '.', '.'],\n",
      " ['#', '#', '#', '#', '#', '.', '.', '.', '.', '#', '#', '#', '#'],\n",
      " ['#', '#', '#', '#', '#', '.', '.', '.', '.', '#', '#', '#', '#'],\n",
      " ['.', '#', '#', '.', '#', '.', '#', '.', '#', '#', '#', '.', '.'],\n",
      " ['#', '#', '#', '.', '.', '#', '.', '.', '.', '.', '.', '.', '.'],\n",
      " ['#', '.', '.', '#', '#', '#', '.', '.', '#', '#', '#', '#', '#'],\n",
      " ['#', '.', '#', '#', '.', '#', '#', '.', '.', '.', '.', '.', '#'],\n",
      " ['#', '#', '#', '#', '#', '#', '#', '#', '#', '.', '#', '#', '#'],\n",
      " ['#', '.', '#', '#', '.', '#', '.', '.', '#', '.', '#', '#', '#'],\n",
      " ['#', '.', '#', '#', '.', '#', '.', '.', '#', '.', '#', '#', '#'],\n",
      " ['#', '#', '#', '#', '#', '#', '#', '#', '#', '.', '#', '#', '#'],\n",
      " ['#', '.', '#', '#', '.', '#', '#', '.', '.', '.', '.', '.', '#'],\n",
      " ['#', '.', '#', '#', '#', '#', '.', '.', '#', '#', '#', '#', '#'],\n",
      " ['#', '#', '#', '.', '.', '#', '.', '.', '.', '.', '.', '.', '.'],\n",
      " ['.', '#', '#', '.', '#', '.', '#', '.', '#', '#', '#', '.', '.']]\n",
      "[['.', '.', '.', '.', '.', '#', '#', '#', '#', '#', '#', '#', '#', '#', '.'],\n",
      " ['#', '.', '#', '.', '.', '#', '.', '.', '.', '#', '.', '.', '#', '.', '.'],\n",
      " ['.', '#', '#', '#', '#', '.', '.', '.', '#', '.', '#', '.', '#', '.', '.'],\n",
      " ['#', '#', '#', '#', '#', '.', '.', '.', '#', '.', '#', '.', '#', '.', '.'],\n",
      " ['#', '.', '#', '.', '.', '#', '.', '.', '.', '#', '.', '.', '#', '.', '.'],\n",
      " ['.', '.', '.', '.', '.', '#', '#', '#', '#', '#', '#', '#', '#', '#', '.'],\n",
      " ['#', '#', '#', '.', '.', '#', '.', '.', '.', '.', '#', '#', '#', '#', '.'],\n",
      " ['.', '#', '.', '.', '.', '#', '#', '#', '.', '.', '#', '.', '.', '.', '#'],\n",
      " ['.', '.', '.', '#', '#', '#', '#', '#', '#', '#', '#', '#', '.', '#', '.'],\n",
      " ['#', '#', '.', '#', '#', '.', '#', '#', '.', '#', '#', '#', '#', '#', '.'],\n",
      " ['#', '#', '.', '#', '#', '.', '#', '#', '.', '#', '#', '#', '#', '#', '.'],\n",
      " ['.', '.', '.', '#', '#', '#', '#', '#', '#', '#', '#', '#', '.', '#', '.'],\n",
      " ['.', '#', '.', '.', '.', '#', '#', '#', '.', '.', '#', '.', '.', '.', '#'],\n",
      " ['#', '#', '#', '.', '.', '#', '.', '.', '.', '.', '#', '#', '#', '#', '.'],\n",
      " ['.', '.', '.', '.', '.', '#', '#', '#', '#', '#', '#', '#', '#', '#', '.'],\n",
      " ['#', '.', '#', '.', '.', '#', '.', '.', '.', '#', '.', '.', '#', '.', '.'],\n",
      " ['#', '#', '#', '#', '#', '.', '.', '.', '#', '.', '#', '.', '#', '.', '.']]\n"
     ]
    }
   ],
   "source": [
    "from pprint import pprint\n",
    "\n",
    "\n",
    "with open('day13.txt') as f:\n",
    "    lines = f.read()\n",
    "    patterns = lines.split(\"\\n\\n\")\n",
    "\n",
    "formatted_patterns = []\n",
    "for pattern in patterns:\n",
    "    formatted_patterns.append([[c for c in split] for split in pattern.split(\"\\n\")])\n",
    "\n",
    "pprint(formatted_patterns[0])\n",
    "pprint(formatted_patterns[1])\n"
   ]
  },
  {
   "cell_type": "code",
   "execution_count": 82,
   "metadata": {},
   "outputs": [],
   "source": [
    "def compare_lines(line_1, line_2):\n",
    "    for i in range(len(line_1)):\n",
    "        if line_1[i]!=line_2[i]:\n",
    "            return False\n",
    "    return True\n",
    "\n",
    "\n",
    "def try_propagation(start_index, pattern):\n",
    "    for i in range(min(start_index+1, len(pattern)-(start_index+1))):\n",
    "        is_same = compare_lines(pattern[start_index-i], pattern[start_index+i+1])\n",
    "        if not is_same:\n",
    "            return False\n",
    "    return True\n",
    "\n",
    "def find_mirroring_line(pattern):\n",
    "    for i in range(len(pattern)-1):\n",
    "        do_propagate = try_propagation(i, pattern)\n",
    "        if do_propagate:\n",
    "            return i+1\n",
    "    return -1\n",
    "\n",
    "def transpose(pattern):\n",
    "    t = [[0 for i in range(len(pattern))]for j in range(len(pattern[0]))]\n",
    "    for i in range(len(pattern)):\n",
    "        for j in range(len(pattern[i])):\n",
    "            t[j][i] = pattern[i][j]\n",
    "    return t\n"
   ]
  },
  {
   "cell_type": "code",
   "execution_count": 83,
   "metadata": {},
   "outputs": [
    {
     "name": "stdout",
     "output_type": "stream",
     "text": [
      "37718\n"
     ]
    }
   ],
   "source": [
    "\n",
    "total = 0\n",
    "for pattern in formatted_patterns:\n",
    "    a = find_mirroring_line(pattern)\n",
    "    if a!=-1:\n",
    "        total+=(a*100)\n",
    "        continue\n",
    "    transposed_pattern = transpose(pattern)\n",
    "    b = find_mirroring_line(transposed_pattern)\n",
    "    total+=(b)\n",
    "\n",
    "print(total)\n",
    "    \n"
   ]
  },
  {
   "cell_type": "code",
   "execution_count": 84,
   "metadata": {},
   "outputs": [],
   "source": [
    "# P2\n",
    "def compare_lines(line_1, line_2):\n",
    "    counter = 0\n",
    "    for i in range(len(line_1)):\n",
    "        if line_1[i]!=line_2[i]:\n",
    "            counter+=1\n",
    "    return counter\n",
    "\n",
    "\n",
    "def try_propagation(start_index, pattern):\n",
    "    has_one_diff = False\n",
    "    for i in range(min(start_index+1, len(pattern)-(start_index+1))):\n",
    "        counter_diff = compare_lines(pattern[start_index-i], pattern[start_index+i+1])\n",
    "        if counter_diff == 0 :\n",
    "            continue\n",
    "        elif counter_diff == 1 and not has_one_diff:\n",
    "            has_one_diff = True\n",
    "        else:\n",
    "            return False\n",
    "    return has_one_diff\n"
   ]
  },
  {
   "cell_type": "code",
   "execution_count": 85,
   "metadata": {},
   "outputs": [
    {
     "name": "stdout",
     "output_type": "stream",
     "text": [
      "40995\n"
     ]
    }
   ],
   "source": [
    "total = 0\n",
    "values = []\n",
    "for pattern in formatted_patterns:\n",
    "    a = find_mirroring_line(pattern)\n",
    "    if a!=-1:\n",
    "        total+=(a*100)\n",
    "        values.append({\"horizontal\", a})\n",
    "        continue\n",
    "    transposed_pattern = transpose(pattern)\n",
    "    b = find_mirroring_line(transposed_pattern)\n",
    "    total+=b\n",
    "    values.append({\"vertical\", b})\n",
    "\n",
    "print(total)\n",
    "    "
   ]
  }
 ],
 "metadata": {
  "kernelspec": {
   "display_name": "Python 3",
   "language": "python",
   "name": "python3"
  },
  "language_info": {
   "codemirror_mode": {
    "name": "ipython",
    "version": 3
   },
   "file_extension": ".py",
   "mimetype": "text/x-python",
   "name": "python",
   "nbconvert_exporter": "python",
   "pygments_lexer": "ipython3",
   "version": "3.9.6"
  }
 },
 "nbformat": 4,
 "nbformat_minor": 2
}
