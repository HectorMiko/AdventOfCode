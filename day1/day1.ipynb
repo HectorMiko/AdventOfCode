{
 "cells": [
  {
   "cell_type": "code",
   "execution_count": 16,
   "metadata": {},
   "outputs": [],
   "source": [
    "with open('day1.txt') as f:\n",
    "    lines = f.read()\n",
    "    data = lines.split(\"\\n\")"
   ]
  },
  {
   "cell_type": "code",
   "execution_count": 17,
   "metadata": {},
   "outputs": [],
   "source": [
    "def getNumber1(str):\n",
    "    firstNumberDigit = None\n",
    "    lastNumberDigit = None\n",
    "    for i in str:\n",
    "        if i in \"1234567890\":\n",
    "            if not firstNumberDigit:\n",
    "                firstNumberDigit = i\n",
    "            else:\n",
    "                lastNumberDigit = i\n",
    "    if not lastNumberDigit:\n",
    "        return int(firstNumberDigit+firstNumberDigit)\n",
    "    return int(firstNumberDigit+lastNumberDigit)\n",
    "\n",
    "# total = 0\n",
    "# for sample in data : \n",
    "#     total+=getNumber1(sample)\n",
    "# print(total)"
   ]
  },
  {
   "cell_type": "code",
   "execution_count": 18,
   "metadata": {},
   "outputs": [],
   "source": [
    "possibleDigits = [\"1\",\"2\",\"3\",\"4\",\"5\",\"6\",\"7\",\"8\",\"9\",\"one\", \"two\", \"three\", \"four\", \"five\", \"six\", \"seven\", \"eight\", \"nine\"]\n",
    "conversions = {\n",
    "    \"1\": \"1\",\n",
    "    \"2\": \"2\",\n",
    "    \"3\": \"3\",\n",
    "    \"4\": \"4\",\n",
    "    \"5\": \"5\",\n",
    "    \"6\": \"6\",\n",
    "    \"7\": \"7\",\n",
    "    \"8\": \"8\",\n",
    "    \"9\": \"9\",\n",
    "    \"one\": \"1\",\n",
    "    \"two\": \"2\",\n",
    "    \"three\": \"3\",\n",
    "    \"four\": \"4\",\n",
    "    \"five\": \"5\",\n",
    "    \"six\": \"6\",\n",
    "    \"seven\": \"7\",\n",
    "    \"eight\": \"8\",\n",
    "    \"nine\": \"9\",\n",
    "}\n",
    "def minIndex(string, key):\n",
    "    return string.index(key)\n",
    "def maxIndex(string, key):\n",
    "    return len(string) - string[::-1].index(key[::-1]) - len(key)\n",
    "\n",
    "def getNumber2(str):\n",
    "    maxDigitIndex = -1\n",
    "    minDigitIndex = len(str)\n",
    "    minDigit = None\n",
    "    maxDigit = None\n",
    "    for digit in possibleDigits:\n",
    "        if digit in str:\n",
    "            minindex = minIndex(str, digit)\n",
    "            maxindex = maxIndex(str, digit)\n",
    "            if maxindex > maxDigitIndex:\n",
    "                maxDigitIndex = maxindex\n",
    "                maxDigit = digit\n",
    "            if minindex < minDigitIndex:\n",
    "                minDigitIndex = minindex\n",
    "                minDigit = digit\n",
    "    return int(conversions[minDigit] + conversions[maxDigit])\n",
    "\n"
   ]
  },
  {
   "cell_type": "code",
   "execution_count": 19,
   "metadata": {},
   "outputs": [
    {
     "name": "stdout",
     "output_type": "stream",
     "text": [
      "52840\n"
     ]
    }
   ],
   "source": [
    "total1 = 0\n",
    "total2 = 0\n",
    "for sample in data : \n",
    "    total1+=getNumber1(sample)\n",
    "    total2+=getNumber2(sample)\n",
    "print( total1)\n",
    "print( total2)\n"
   ]
  }
 ],
 "metadata": {
  "kernelspec": {
   "display_name": "Python 3",
   "language": "python",
   "name": "python3"
  },
  "language_info": {
   "codemirror_mode": {
    "name": "ipython",
    "version": 3
   },
   "file_extension": ".py",
   "mimetype": "text/x-python",
   "name": "python",
   "nbconvert_exporter": "python",
   "pygments_lexer": "ipython3",
   "version": "3.9.6"
  }
 },
 "nbformat": 4,
 "nbformat_minor": 2
}
