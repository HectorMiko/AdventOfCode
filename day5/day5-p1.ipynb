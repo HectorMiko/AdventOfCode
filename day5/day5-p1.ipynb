{
 "cells": [
  {
   "cell_type": "code",
   "execution_count": 26,
   "metadata": {},
   "outputs": [],
   "source": [
    "with open('day5.txt') as f:\n",
    "    lines = f.read()\n",
    "    data = lines.split(\"\\n\")\n"
   ]
  },
  {
   "cell_type": "code",
   "execution_count": 27,
   "metadata": {},
   "outputs": [],
   "source": [
    "def create_ranges(src_dest_ranges) -> None:\n",
    "    ranges = []\n",
    "    for src_dest_range in src_dest_ranges:\n",
    "        ranges.append(createNewRange(src_dest_range))\n",
    "    return ranges\n",
    "\n",
    "def createNewRange(src_dest_range):\n",
    "    # print(\"src_dest_range\", src_dest_range)\n",
    "    dest, src , len = src_dest_range.split()\n",
    "    return { \"src\": int(src), \"dest\": int(dest), \"len\": int(len) }\n",
    "\n",
    "def transformNumber(ranges, number_input):\n",
    "    new_value = number_input\n",
    "    for r in ranges:\n",
    "        if (\n",
    "            r[\"src\"] <= number_input \n",
    "            and number_input<r[\"src\"]+r[\"len\"]\n",
    "        ):\n",
    "            new_value = r[\"dest\"]+(number_input-r[\"src\"])\n",
    "    return new_value\n",
    "\n",
    "\n"
   ]
  },
  {
   "cell_type": "code",
   "execution_count": 28,
   "metadata": {},
   "outputs": [
    {
     "name": "stdout",
     "output_type": "stream",
     "text": [
      "\n"
     ]
    }
   ],
   "source": [
    "\n",
    "seeds = \"\"\n",
    "print(seeds)\n",
    "buffer_ranges = []\n",
    "ranges = []\n",
    "for line in data:\n",
    "    if \"seeds:\" in line:\n",
    "        seeds= [int(i) for i in data[0].split()[1:]]\n",
    "    elif line in [\"seed-to-soil map:\", \"soil-to-fertilizer map:\", \"fertilizer-to-water map:\", \"water-to-light map:\", \"light-to-temperature map:\", \"temperature-to-humidity map:\", \"humidity-to-location map:\"]:\n",
    "        pass\n",
    "    elif len(line)==0:\n",
    "        t = create_ranges(buffer_ranges)\n",
    "        ranges.append(t)\n",
    "        del(buffer_ranges)\n",
    "        buffer_ranges = []\n",
    "    elif len(line):\n",
    "        buffer_ranges.append(line)\n",
    "t = create_ranges(buffer_ranges)\n",
    "ranges.append(t)\n",
    "\n",
    "\n"
   ]
  },
  {
   "cell_type": "code",
   "execution_count": 29,
   "metadata": {},
   "outputs": [
    {
     "name": "stdout",
     "output_type": "stream",
     "text": [
      "[202517468, 131640971, 1553776977, 241828580, 1435322022, 100369067, 2019100043, 153706556, 460203450, 84630899, 3766866638, 114261107, 1809826083, 153144153, 2797169753, 177517156, 2494032210, 235157184, 856311572, 542740109]\n",
      "318728750\n"
     ]
    }
   ],
   "source": [
    "\"\"\"P1\"\"\"\n",
    "def getMinimalLocation(seeds, ranges):\n",
    "    final = []\n",
    "    for seed in seeds:\n",
    "        tempSeed = seed\n",
    "        for checker in ranges : \n",
    "            tempSeed = transformNumber(checker, int(tempSeed))\n",
    "        final.append(tempSeed)\n",
    "    return min(final)\n",
    "\n",
    "print(seeds)\n",
    "print(getMinimalLocation(seeds, ranges))"
   ]
  }
 ],
 "metadata": {
  "kernelspec": {
   "display_name": "Python 3",
   "language": "python",
   "name": "python3"
  },
  "language_info": {
   "codemirror_mode": {
    "name": "ipython",
    "version": 3
   },
   "file_extension": ".py",
   "mimetype": "text/x-python",
   "name": "python",
   "nbconvert_exporter": "python",
   "pygments_lexer": "ipython3",
   "version": "3.9.6"
  }
 },
 "nbformat": 4,
 "nbformat_minor": 2
}
