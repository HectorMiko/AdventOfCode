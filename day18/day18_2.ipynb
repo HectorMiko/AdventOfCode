{
 "cells": [
  {
   "cell_type": "code",
   "execution_count": 505,
   "metadata": {},
   "outputs": [
    {
     "name": "stdout",
     "output_type": "stream",
     "text": [
      "[{'direction': 'R', 'number': 461937},\n",
      " {'direction': 'D', 'number': 56407},\n",
      " {'direction': 'R', 'number': 356671},\n",
      " {'direction': 'D', 'number': 863240},\n",
      " {'direction': 'R', 'number': 367720},\n",
      " {'direction': 'D', 'number': 266681},\n",
      " {'direction': 'L', 'number': 577262},\n",
      " {'direction': 'U', 'number': 829975},\n",
      " {'direction': 'L', 'number': 112010},\n",
      " {'direction': 'D', 'number': 829975},\n",
      " {'direction': 'L', 'number': 491645},\n",
      " {'direction': 'U', 'number': 686074},\n",
      " {'direction': 'L', 'number': 5411},\n",
      " {'direction': 'U', 'number': 500254}]\n"
     ]
    }
   ],
   "source": [
    "from pprint import pprint\n",
    "\n",
    "\n",
    "with open('trial.txt') as f:\n",
    "    lines = f.read()\n",
    "    data = lines.split(\"\\n\")\n",
    "\n",
    "directions = {\n",
    "    \"0\": \"R\",\n",
    "    \"1\": \"D\",\n",
    "    \"2\": \"L\",\n",
    "    \"3\": \"U\",\n",
    "}\n",
    "\n",
    "steps = []\n",
    "for step in data:\n",
    "    d, n, color = step.split(\" \")\n",
    "    number = int(color[2:-2], 16)\n",
    "    steps.append({\n",
    "        \"direction\": directions[color[-2]],\n",
    "        \"number\": number,\n",
    "    })\n",
    "\n",
    "pprint(steps)"
   ]
  },
  {
   "cell_type": "code",
   "execution_count": 506,
   "metadata": {},
   "outputs": [
    {
     "name": "stdout",
     "output_type": "stream",
     "text": [
      "0 461937\n",
      "56407 461937\n",
      "56407 818608\n",
      "919647 818608\n",
      "919647 1186328\n",
      "1186328 1186328\n",
      "1186328 609066\n",
      "356353 609066\n",
      "356353 497056\n",
      "1186328 497056\n",
      "1186328 5411\n",
      "500254 5411\n",
      "500254 0\n",
      "0 0\n",
      "[{'x': 0, 'y': 461937}, {'x': 56407, 'y': 461937}, {'x': 56407, 'y': 818608}, {'x': 919647, 'y': 818608}, {'x': 919647, 'y': 1186328}, {'x': 1186328, 'y': 1186328}, {'x': 1186328, 'y': 609066}, {'x': 356353, 'y': 609066}, {'x': 356353, 'y': 497056}, {'x': 1186328, 'y': 497056}, {'x': 1186328, 'y': 5411}, {'x': 500254, 'y': 5411}, {'x': 500254, 'y': 0}, {'x': 0, 'y': 0}]\n"
     ]
    }
   ],
   "source": [
    "positions = []\n",
    "pos_x, pos_y = 0, 0\n",
    "for step in steps:\n",
    "    if step[\"direction\"] == \"R\":\n",
    "        dx, dy = 0, step[\"number\"]\n",
    "    elif step[\"direction\"] == \"L\":\n",
    "        dx, dy = 0, -step[\"number\"]\n",
    "    elif step[\"direction\"] == \"D\":\n",
    "        dx, dy = step[\"number\"], 0\n",
    "    elif step[\"direction\"] == \"U\":\n",
    "        dx, dy = -step[\"number\"], 0\n",
    "    pos_x += dx\n",
    "    pos_y += dy\n",
    "    print(pos_x, pos_y)\n",
    "    positions.append({\"x\": pos_x, \"y\": pos_y})\n",
    "print(positions)\n",
    "\"\"\"\n",
    "..........\n",
    "#######...\n",
    "#*****#...\n",
    "#*###*#...\n",
    "#*#.#*#...\n",
    "###.###...\n",
    "\"\"\"\n",
    "positions = [\n",
    "    {\"x\": 0, \"y\": 0},\n",
    "    {\"x\": 0, \"y\": 6},#\n",
    "    {\"x\": 4, \"y\": 6},#\n",
    "    {\"x\": 4, \"y\": 4},#\n",
    "    {\"x\": 2, \"y\": 4},#\n",
    "    {\"x\": 2, \"y\": 2},#\n",
    "    {\"x\": 4, \"y\": 2},\n",
    "    {\"x\": 4, \"y\": 0},\n",
    "]"
   ]
  },
  {
   "cell_type": "code",
   "execution_count": 507,
   "metadata": {},
   "outputs": [
    {
     "name": "stdout",
     "output_type": "stream",
     "text": [
      "@.....@.\n",
      "........\n",
      "..@.@...\n",
      "........\n",
      "@.@.@.@.\n",
      "........\n",
      "........\n",
      "........\n",
      "position 8\n",
      "10\n",
      "@...@...\n",
      "........\n",
      "..@.@...\n",
      "........\n",
      "@.@.....\n",
      "........\n",
      "........\n",
      "........\n",
      "position 6\n",
      "6\n",
      "@.@.....\n",
      "........\n",
      "........\n",
      "........\n",
      "@.@.....\n",
      "........\n",
      "........\n",
      "........\n",
      "position 4\n",
      "10\n",
      "@.......\n",
      "........\n",
      "........\n",
      "........\n",
      "........\n",
      "........\n",
      "........\n",
      "........\n",
      "26\n"
     ]
    }
   ],
   "source": [
    "def showpoints(positions):\n",
    "    canvas = [[\".\" for p in range(8)] for j in range(8)]\n",
    "    for p in positions:\n",
    "        canvas[p[\"x\"]][p[\"y\"]] = \"@\"\n",
    "    \n",
    "    for l in canvas:\n",
    "        print(\"\".join(l))\n",
    "total = 0\n",
    "# for p in range(len(positions)-1):\n",
    "#     total+=abs(positions[p][\"x\"]-positions[p+1][\"x\"])\n",
    "#     total+=abs(positions[p][\"y\"]-positions[p+1][\"y\"])\n",
    "while len(positions)>2:\n",
    "    showpoints(positions)\n",
    "    \n",
    "    # find_abcd\n",
    "    print(\"position\", len(positions))\n",
    "    y_positions = [p[\"y\"] for p in positions]\n",
    "    A_i = y_positions.index(max(y_positions))\n",
    "    B_i = A_i+1\n",
    "    \n",
    "    B = positions[B_i]\n",
    "    A = positions[A_i]\n",
    "    C = positions[(A_i-1)%len(positions)]\n",
    "    D = positions[(B_i+1)%len(positions)]\n",
    "    # print(\"y\", A, B )\n",
    "    if C[\"y\"]>D[\"y\"]:\n",
    "        # print(\"A\")\n",
    "        E = {\"x\": B[\"x\"], \"y\": C[\"y\"], \"name\": \"E\"}\n",
    "        value = (abs(B[\"y\"]-C[\"y\"])) * (abs(B[\"x\"]-A[\"x\"])+1) \n",
    "        positions.pop(A_i-1)\n",
    "        positions.pop(A_i-1)\n",
    "        positions.pop((A_i-1)%len(positions))\n",
    "        positions.insert(A_i-1, E)\n",
    "    else:\n",
    "        # print(\"B\")\n",
    "        E = {\"x\": A[\"x\"], \"y\": D[\"y\"], \"name\": \"E\"}\n",
    "        value = (abs(B[\"y\"]-D[\"y\"])) * (abs(B[\"x\"]-A[\"x\"])+1)\n",
    "        if value == 0:\n",
    "            total+=abs(B[\"x\"]-A[\"x\"])\n",
    "        positions.pop(A_i)\n",
    "        positions.pop(A_i)\n",
    "        positions.pop(A_i%len(positions))\n",
    "        positions.insert(A_i%len(positions), E)\n",
    "    total += value\n",
    "    print(value)\n",
    "showpoints(positions)\n",
    "\n",
    "if value == 0:\n",
    "    total+=abs(B[\"x\"]-A[\"x\"])\n",
    "\n",
    "\n",
    "\n",
    "\n",
    "for p in range(len(positions)-1):\n",
    "    total+=abs(positions[p][\"x\"]-positions[p+1][\"x\"])\n",
    "    total+=abs(positions[p][\"y\"]-positions[p+1][\"y\"])\n",
    "print(total)"
   ]
  },
  {
   "cell_type": "code",
   "execution_count": 508,
   "metadata": {},
   "outputs": [
    {
     "data": {
      "text/plain": [
       "952406127811"
      ]
     },
     "execution_count": 508,
     "metadata": {},
     "output_type": "execute_result"
    }
   ],
   "source": [
    "(1186328-919647) * (1186328-818608)\n",
    "952408144115\n",
    "952409698480\n",
    "952406127811"
   ]
  }
 ],
 "metadata": {
  "kernelspec": {
   "display_name": "Python 3",
   "language": "python",
   "name": "python3"
  },
  "language_info": {
   "codemirror_mode": {
    "name": "ipython",
    "version": 3
   },
   "file_extension": ".py",
   "mimetype": "text/x-python",
   "name": "python",
   "nbconvert_exporter": "python",
   "pygments_lexer": "ipython3",
   "version": "3.9.6"
  }
 },
 "nbformat": 4,
 "nbformat_minor": 2
}
