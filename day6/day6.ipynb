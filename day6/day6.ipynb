{
 "cells": [
  {
   "cell_type": "code",
   "execution_count": 95,
   "metadata": {},
   "outputs": [
    {
     "name": "stdout",
     "output_type": "stream",
     "text": [
      "[{'time': 42, 'distance': 308}, {'time': 89, 'distance': 1170}, {'time': 91, 'distance': 1291}, {'time': 89, 'distance': 1467}]\n"
     ]
    }
   ],
   "source": [
    "with open('day6.txt') as f:\n",
    "    lines = f.read()\n",
    "    data = lines.split(\"\\n\")\n",
    "\n",
    "times = data[0].split()[1:]\n",
    "distances = data[1].split()[1:]\n",
    "\n",
    "records = []\n",
    "for i in range(len(times)):\n",
    "    records.append({\n",
    "        \"time\": int(times[i]),\n",
    "        \"distance\": int(distances[i]),\n",
    "    })\n",
    "\n",
    "print(records)"
   ]
  },
  {
   "cell_type": "code",
   "execution_count": 96,
   "metadata": {},
   "outputs": [
    {
     "name": "stdout",
     "output_type": "stream",
     "text": [
      "\t 23\n",
      "\t 56\n",
      "\t 56\n",
      "\t 46\n",
      "3317888\n"
     ]
    }
   ],
   "source": [
    "def findNumberOfRecords(race):\n",
    "    counter_records = 0\n",
    "    for i in range(race[\"time\"]):\n",
    "        time_to_accel = i\n",
    "        time_left = race[\"time\"]-i\n",
    "        record = time_to_accel*time_left\n",
    "        if record>race[\"distance\"]:\n",
    "            counter_records+=1\n",
    "    return counter_records\n",
    "\n",
    "total = 1\n",
    "for race in records:\n",
    "    possible_records = findNumberOfRecords(race)\n",
    "    total*=possible_records\n",
    "    print(\"\\t\", possible_records)\n",
    "\n",
    "print(total)"
   ]
  },
  {
   "cell_type": "code",
   "execution_count": 97,
   "metadata": {},
   "outputs": [
    {
     "name": "stdout",
     "output_type": "stream",
     "text": [
      "42899189\n",
      "308117012911467\n"
     ]
    }
   ],
   "source": [
    "time = int(\"\".join(data[0].split()[1:]))\n",
    "distance = int(\"\".join(data[1].split()[1:]))\n",
    "print(time)\n",
    "print(distance)"
   ]
  },
  {
   "cell_type": "code",
   "execution_count": 99,
   "metadata": {},
   "outputs": [
    {
     "name": "stdout",
     "output_type": "stream",
     "text": [
      "nb_winning_races 24655068\n"
     ]
    }
   ],
   "source": [
    "def findMinAccel(time, distance):\n",
    "    for i in range(time):\n",
    "        time_left = time-i\n",
    "        if i*time_left>distance:\n",
    "            return i\n",
    "\n",
    "min_accel = findMinAccel(time, distance)\n",
    "last_accel_not_beating_record = min_accel\n",
    "nb_possible_races= time+1\n",
    "\n",
    "nb_winning_races = nb_possible_races-last_accel_not_beating_record*2\n",
    "print(\"nb_winning_races\", nb_winning_races)\n",
    "# 71503 need to find with trial data\n"
   ]
  }
 ],
 "metadata": {
  "kernelspec": {
   "display_name": "Python 3",
   "language": "python",
   "name": "python3"
  },
  "language_info": {
   "codemirror_mode": {
    "name": "ipython",
    "version": 3
   },
   "file_extension": ".py",
   "mimetype": "text/x-python",
   "name": "python",
   "nbconvert_exporter": "python",
   "pygments_lexer": "ipython3",
   "version": "3.9.6"
  }
 },
 "nbformat": 4,
 "nbformat_minor": 2
}
