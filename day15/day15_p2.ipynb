{
 "cells": [
  {
   "cell_type": "code",
   "execution_count": 10,
   "metadata": {},
   "outputs": [
    {
     "name": "stdout",
     "output_type": "stream",
     "text": [
      "[{'box': 0, 'focal': 1, 'label': 'rn', 'sign': '='},\n",
      " {'box': 0, 'focal': None, 'label': 'cm', 'sign': '-'},\n",
      " {'box': 1, 'focal': 3, 'label': 'qp', 'sign': '='},\n",
      " {'box': 0, 'focal': 2, 'label': 'cm', 'sign': '='},\n",
      " {'box': 1, 'focal': None, 'label': 'qp', 'sign': '-'},\n",
      " {'box': 3, 'focal': 4, 'label': 'pc', 'sign': '='},\n",
      " {'box': 3, 'focal': 9, 'label': 'ot', 'sign': '='},\n",
      " {'box': 3, 'focal': 5, 'label': 'ab', 'sign': '='},\n",
      " {'box': 3, 'focal': None, 'label': 'pc', 'sign': '-'},\n",
      " {'box': 3, 'focal': 6, 'label': 'pc', 'sign': '='},\n",
      " {'box': 3, 'focal': 7, 'label': 'ot', 'sign': '='}]\n"
     ]
    }
   ],
   "source": [
    "from pprint import pprint\n",
    "\n",
    "\n",
    "with open('trial.txt') as f:\n",
    "    lines = f.read()\n",
    "    # data = [[c for c in line] for line in lines.split(\",\")]\n",
    "    data = lines.split(\",\")\n",
    "\n",
    "def hash(word):\n",
    "    start = 0\n",
    "    for letter in word:\n",
    "        start+=ord(letter)\n",
    "        start*=17\n",
    "        start = start%256\n",
    "    return start\n",
    "\n",
    "steps = []\n",
    "for s in data:\n",
    "    if \"=\" in s:\n",
    "        text, i = s.split(\"=\")\n",
    "        steps.append({\n",
    "            \"box\": hash(text),\n",
    "            \"sign\": \"=\",\n",
    "            \"focal\": int(i),\n",
    "            \"label\": text\n",
    "        })\n",
    "    else:\n",
    "        text = s[:-1]\n",
    "        steps.append({\n",
    "            \"box\": hash(text),\n",
    "            \"sign\": \"-\",\n",
    "            \"focal\": None,\n",
    "            \"label\": text\n",
    "        })\n",
    "\n",
    "pprint(steps)"
   ]
  },
  {
   "cell_type": "code",
   "execution_count": 6,
   "metadata": {},
   "outputs": [],
   "source": [
    "boxes = [[] for i in range(256)]"
   ]
  },
  {
   "cell_type": "code",
   "execution_count": null,
   "metadata": {},
   "outputs": [],
   "source": [
    "def find_index(box, label):\n",
    "    for i in range(len(box)):\n",
    "        if box[i][\"label\"]==label:\n",
    "            return i\n",
    "    return None\n",
    "\n",
    "\n",
    "for step in steps:\n",
    "    box = boxes[step[\"box\"]]\n",
    "    if step[\"sign\"]==\"=\":\n",
    "        index = find_index(box, step[\"label\"])\n",
    "        if index:\n",
    "            box[index] = {\"label\": step[\"label\"], \"focal\": step[\"focal\"]}\n",
    "        if not index:\n",
    "            box.append({\"label\": step[\"label\"], \"focal\": step[\"focal\"]})\n",
    "\n",
    "\n",
    "    elif step[\"sign\"]==\"-\":\n",
    "        index = find_index(box, step[\"label\"])\n",
    "        if index :\n",
    "            box.pop(index)\n",
    "    "
   ]
  }
 ],
 "metadata": {
  "kernelspec": {
   "display_name": "Python 3",
   "language": "python",
   "name": "python3"
  },
  "language_info": {
   "codemirror_mode": {
    "name": "ipython",
    "version": 3
   },
   "file_extension": ".py",
   "mimetype": "text/x-python",
   "name": "python",
   "nbconvert_exporter": "python",
   "pygments_lexer": "ipython3",
   "version": "3.9.6"
  }
 },
 "nbformat": 4,
 "nbformat_minor": 2
}
