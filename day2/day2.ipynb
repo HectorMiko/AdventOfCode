{
 "cells": [
  {
   "cell_type": "code",
   "execution_count": 58,
   "metadata": {},
   "outputs": [],
   "source": [
    "with open('day2.txt') as f:\n",
    "    lines = f.read()\n",
    "    data = lines.split(\"\\n\")\n",
    "\n",
    "\"\"\"\n",
    "choose representation\n",
    "Each game : \n",
    "{\n",
    "    \"id\": string,\n",
    "    \"launches\": {red: number, blue: number, green: number}[]\n",
    "}\n",
    "# Game 1: 3 blue, 4 red; 1 red, 2 green, 6 blue; 2 green\n",
    "\"\"\"\n",
    "\n",
    "games = []\n",
    "for line in data:\n",
    "    idGameText, gamesText = line.split(\":\")\n",
    "    id = idGameText.replace(\"Game \", \"\")\n",
    "    launchesText = gamesText.split(\";\")\n",
    "    game = {\"id\" : id, \"launches\": []}\n",
    "    for launchText in launchesText:\n",
    "        ballsText = launchText.split(\",\")\n",
    "        launch = {\"red\": 0, \"green\": 0, \"blue\": 0}\n",
    "        for ball in ballsText:\n",
    "            number, color = ball.strip().split(\" \")\n",
    "            launch[color] = int(number)\n",
    "        game[\"launches\"].append(launch)\n",
    "    games.append(game)\n"
   ]
  },
  {
   "cell_type": "code",
   "execution_count": 59,
   "metadata": {},
   "outputs": [],
   "source": [
    "config = {\"red\": 12, \"green\": 13, \"blue\": 14}"
   ]
  },
  {
   "cell_type": "code",
   "execution_count": 60,
   "metadata": {},
   "outputs": [],
   "source": [
    "def isPossibleGame(game, config = config):\n",
    "    for launch in game[\"launches\"]:\n",
    "        for key, nbCubes in launch.items():\n",
    "            if nbCubes>config[key]:\n",
    "                return False\n",
    "    return True"
   ]
  },
  {
   "cell_type": "code",
   "execution_count": 61,
   "metadata": {},
   "outputs": [
    {
     "name": "stdout",
     "output_type": "stream",
     "text": [
      "3035\n"
     ]
    }
   ],
   "source": [
    "totalIds = 0\n",
    "for game in games : \n",
    "    if isPossibleGame(game):\n",
    "        totalIds+=int(game[\"id\"])\n",
    "\n",
    "print(totalIds)"
   ]
  },
  {
   "cell_type": "code",
   "execution_count": 62,
   "metadata": {},
   "outputs": [],
   "source": [
    "def findMinConfig(game):\n",
    "    minConfig = {\"red\": 0, \"green\": 0, \"blue\": 0}\n",
    "    for launch in game[\"launches\"]:\n",
    "        minConfig[\"red\"] = max(launch[\"red\"], minConfig[\"red\"])\n",
    "        minConfig[\"green\"] = max(launch[\"green\"], minConfig[\"green\"])\n",
    "        minConfig[\"blue\"] = max(launch[\"blue\"], minConfig[\"blue\"])\n",
    "    return minConfig\n",
    "\n",
    "def configPower(config):\n",
    "    return config[\"red\"] * config[\"green\"] * config[\"blue\"]\n"
   ]
  },
  {
   "cell_type": "code",
   "execution_count": 63,
   "metadata": {},
   "outputs": [
    {
     "name": "stdout",
     "output_type": "stream",
     "text": [
      "66027\n"
     ]
    }
   ],
   "source": [
    "\n",
    "totalPowerConfig = 0\n",
    "for game in games : \n",
    "    config = findMinConfig(game)\n",
    "    totalPowerConfig+=configPower(config)\n",
    "\n",
    "print(totalPowerConfig)"
   ]
  }
 ],
 "metadata": {
  "kernelspec": {
   "display_name": "Python 3",
   "language": "python",
   "name": "python3"
  },
  "language_info": {
   "codemirror_mode": {
    "name": "ipython",
    "version": 3
   },
   "file_extension": ".py",
   "mimetype": "text/x-python",
   "name": "python",
   "nbconvert_exporter": "python",
   "pygments_lexer": "ipython3",
   "version": "3.9.6"
  }
 },
 "nbformat": 4,
 "nbformat_minor": 2
}
